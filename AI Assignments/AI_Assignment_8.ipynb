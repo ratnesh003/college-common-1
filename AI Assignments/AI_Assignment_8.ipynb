{
  "nbformat": 4,
  "nbformat_minor": 0,
  "metadata": {
    "colab": {
      "provenance": [],
      "authorship_tag": "ABX9TyM0DUHXjxzbsYDYyryP2kAA",
      "include_colab_link": true
    },
    "kernelspec": {
      "name": "python3",
      "display_name": "Python 3"
    },
    "language_info": {
      "name": "python"
    }
  },
  "cells": [
    {
      "cell_type": "markdown",
      "metadata": {
        "id": "view-in-github",
        "colab_type": "text"
      },
      "source": [
        "<a href=\"https://colab.research.google.com/github/ratnesh003/college-common-1/blob/main/AI%20Assignments/AI_Assignment_8.ipynb\" target=\"_parent\"><img src=\"https://colab.research.google.com/assets/colab-badge.svg\" alt=\"Open In Colab\"/></a>"
      ]
    },
    {
      "cell_type": "code",
      "execution_count": 6,
      "metadata": {
        "colab": {
          "base_uri": "https://localhost:8080/"
        },
        "id": "W1tSsUgH0qWl",
        "outputId": "13dbee22-0659-460d-f993-1319e528a2c8"
      },
      "outputs": [
        {
          "output_type": "stream",
          "name": "stdout",
          "text": [
            "Initial Maze:\n",
            "S #     # #   # \n",
            "  # #         # \n",
            "        # #   # \n",
            "  #   #       # \n",
            "      #   #   # \n",
            "  #       #   E \n",
            "\n",
            "Solved Maze with Path:\n",
            "S #     # #   # \n",
            ". # #         # \n",
            ".       # #   # \n",
            ". #   # . . . # \n",
            ". . . # . # . # \n",
            "  # . . . # . E \n",
            "\n"
          ]
        }
      ],
      "source": [
        "def print_maze(maze, start=None, end=None):\n",
        "    for i, row in enumerate(maze):\n",
        "        row_display = \"\"\n",
        "        for j, cell in enumerate(row):\n",
        "            if start == (i, j):\n",
        "                row_display += \"S \"\n",
        "            elif end == (i, j):\n",
        "                row_display += \"E \"\n",
        "            elif cell == 1:\n",
        "                row_display += \"# \"\n",
        "            else:\n",
        "                row_display += \"  \"\n",
        "        print(row_display)\n",
        "    print()\n",
        "\n",
        "def is_safe(maze, x, y, visited):\n",
        "    return 0 <= x < len(maze) and 0 <= y < len(maze[0]) and maze[x][y] == 0 and not visited[x][y]\n",
        "\n",
        "def solve_maze(maze, x, y, solution, visited):\n",
        "    if x == len(maze) - 1 and y == len(maze[0]) - 1:\n",
        "        solution[x][y] = 1\n",
        "        return True\n",
        "\n",
        "    if is_safe(maze, x, y, visited):\n",
        "        solution[x][y] = 1\n",
        "        visited[x][y] = True\n",
        "\n",
        "        if solve_maze(maze, x + 1, y, solution, visited):\n",
        "            return True\n",
        "        if solve_maze(maze, x, y + 1, solution, visited):\n",
        "            return True\n",
        "        if solve_maze(maze, x - 1, y, solution, visited):\n",
        "            return True\n",
        "        if solve_maze(maze, x, y - 1, solution, visited):\n",
        "            return True\n",
        "\n",
        "        solution[x][y] = 0\n",
        "        visited[x][y] = False\n",
        "        return False\n",
        "\n",
        "    return False\n",
        "\n",
        "def print_solution(maze, solution, start, end):\n",
        "    print(\"Solved Maze with Path:\")\n",
        "    for i, row in enumerate(solution):\n",
        "        row_display = \"\"\n",
        "        for j, cell in enumerate(row):\n",
        "            if (i, j) == start:\n",
        "                row_display += \"S \"\n",
        "            elif (i, j) == end:\n",
        "                row_display += \"E \"\n",
        "            elif maze[i][j] == 1:\n",
        "                row_display += \"# \"\n",
        "            elif cell == 1:\n",
        "                row_display += \". \"\n",
        "            else:\n",
        "                row_display += \"  \"\n",
        "        print(row_display)\n",
        "    print()\n",
        "\n",
        "maze = [\n",
        "    [0, 1, 0, 0, 1, 1, 0, 1],\n",
        "    [0, 1, 1, 0, 0, 0, 0, 1],\n",
        "    [0, 0, 0, 0, 1, 1, 0, 1],\n",
        "    [0, 1, 0, 1, 0, 0, 0, 1],\n",
        "    [0, 0, 0, 1, 0, 1, 0, 1],\n",
        "    [0, 1, 0, 0, 0, 1, 0, 1]\n",
        "]\n",
        "\n",
        "start = (0, 0)\n",
        "end = (len(maze) - 1, len(maze[0]) - 1)\n",
        "\n",
        "solution = [[0 for _ in range(len(maze[0]))] for _ in range(len(maze))]\n",
        "visited = [[False for _ in range(len(maze[0]))] for _ in range(len(maze))]\n",
        "\n",
        "print(\"Initial Maze:\")\n",
        "print_maze(maze, start, end)\n",
        "\n",
        "if solve_maze(maze, 0, 0, solution, visited):\n",
        "    print_solution(maze, solution, start, end)\n",
        "else:\n",
        "    print(\"No solution exists\")\n"
      ]
    },
    {
      "cell_type": "code",
      "source": [
        "import math\n",
        "\n",
        "def distance(city1, city2):\n",
        "    return math.sqrt((city1[0] - city2[0]) ** 2 + (city1[1] - city2[1]) ** 2)\n",
        "\n",
        "def nearest_neighbor(cities, start):\n",
        "    n = len(cities)\n",
        "    visited = [False] * n\n",
        "    path = [start]\n",
        "    visited[start] = True\n",
        "    total_distance = 0\n",
        "\n",
        "    current_city = start\n",
        "\n",
        "    for _ in range(n - 1):\n",
        "        nearest = None\n",
        "        min_dist = float('inf')\n",
        "\n",
        "        for i in range(n):\n",
        "            if not visited[i]:\n",
        "                dist = distance(cities[current_city], cities[i])\n",
        "                if dist < min_dist:\n",
        "                    min_dist = dist\n",
        "                    nearest = i\n",
        "\n",
        "        path.append(nearest)\n",
        "        visited[nearest] = True\n",
        "        total_distance += min_dist\n",
        "        current_city = nearest\n",
        "\n",
        "    total_distance += distance(cities[current_city], cities[start])\n",
        "    path.append(start)\n",
        "\n",
        "    return path, total_distance\n",
        "\n",
        "cities = [\n",
        "    (0, 0), (2, 3), (5, 4), (6, 1), (8, 2)\n",
        "]\n",
        "\n",
        "start_city = 0\n",
        "\n",
        "path, total_dist = nearest_neighbor(cities, start_city)\n",
        "\n",
        "print(f\"Path: {path}\")\n",
        "print(f\"Total Distance: {total_dist}\")\n"
      ],
      "metadata": {
        "colab": {
          "base_uri": "https://localhost:8080/"
        },
        "id": "oZ73o55H1hno",
        "outputId": "93c8407f-e8c9-4e99-9ec6-7fcf60cd0839"
      },
      "execution_count": 2,
      "outputs": [
        {
          "output_type": "stream",
          "name": "stdout",
          "text": [
            "Path: [0, 1, 2, 3, 4, 0]\n",
            "Total Distance: 20.41238582453586\n"
          ]
        }
      ]
    }
  ]
}