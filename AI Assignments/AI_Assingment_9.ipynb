{
  "nbformat": 4,
  "nbformat_minor": 0,
  "metadata": {
    "colab": {
      "provenance": [],
      "authorship_tag": "ABX9TyPNpnYvSE3i8iUt4XgT9O3O",
      "include_colab_link": true
    },
    "kernelspec": {
      "name": "python3",
      "display_name": "Python 3"
    },
    "language_info": {
      "name": "python"
    }
  },
  "cells": [
    {
      "cell_type": "markdown",
      "metadata": {
        "id": "view-in-github",
        "colab_type": "text"
      },
      "source": [
        "<a href=\"https://colab.research.google.com/github/ratnesh003/college-common-1/blob/main/AI%20Assignments/AI_Assingment_9.ipynb\" target=\"_parent\"><img src=\"https://colab.research.google.com/assets/colab-badge.svg\" alt=\"Open In Colab\"/></a>"
      ]
    },
    {
      "cell_type": "code",
      "execution_count": 1,
      "metadata": {
        "colab": {
          "base_uri": "https://localhost:8080/"
        },
        "id": "pdBuX-g_n1TX",
        "outputId": "09170094-6758-4b76-9c04-9f8d8992012f"
      },
      "outputs": [
        {
          "output_type": "stream",
          "name": "stdout",
          "text": [
            "SEND = 9567, MORE = 1085, MONEY = 10652\n"
          ]
        }
      ],
      "source": [
        "from itertools import permutations\n",
        "\n",
        "def solve_send_more_money():\n",
        "    letters = 'SENDMORY'\n",
        "    for digits in permutations('0123456789', len(letters)):\n",
        "        s, e, n, d, m, o, r, y = map(int, digits)\n",
        "        if s != 0 and m != 0:\n",
        "            send = 1000*s + 100*e + 10*n + d\n",
        "            more = 1000*m + 100*o + 10*r + e\n",
        "            money = 10000*m + 1000*o + 100*n + 10*e + y\n",
        "            if send + more == money:\n",
        "                return f\"SEND = {send}, MORE = {more}, MONEY = {money}\"\n",
        "\n",
        "print(solve_send_more_money())"
      ]
    },
    {
      "cell_type": "code",
      "source": [
        "def solve_logic_prolog():\n",
        "    letters = 'LOGICPRA'\n",
        "    for digits in permutations('0123456789', len(letters)):\n",
        "        l, o, g, i, c, p, r, a = map(int, digits)\n",
        "        if l != 0 and p != 0:\n",
        "            logic = 10000*l + 1000*o + 100*g + 10*i + c\n",
        "            prolog = 100000*p + 10000*r + 1000*o + 100*l + 10*o + g\n",
        "            if logic + logic == prolog:\n",
        "                return f\"LOGIC = {logic}, PROLOG = {prolog}\"\n",
        "\n",
        "print(solve_logic_prolog())\n"
      ],
      "metadata": {
        "colab": {
          "base_uri": "https://localhost:8080/"
        },
        "id": "97QHuoaloBHD",
        "outputId": "bbe04272-7a4b-4734-957b-94ba986abb60"
      },
      "execution_count": 2,
      "outputs": [
        {
          "output_type": "stream",
          "name": "stdout",
          "text": [
            "LOGIC = 90452, PROLOG = 180904\n"
          ]
        }
      ]
    },
    {
      "cell_type": "code",
      "source": [
        "\n",
        "\n",
        "\n",
        "from itertools import permutations\n",
        "\n",
        "def solve_cryptarithmetic(equation):\n",
        "    letters = set(equation) - {'+', '=', ' '}\n",
        "    letters = ''.join(letters)\n",
        "    for digits in permutations('0123456789', len(letters)):\n",
        "        char_to_digit = dict(zip(letters, digits))\n",
        "        if any(char_to_digit[char] == '0' for char in equation if char.isalpha() and (equation.index(char) > 0 and equation[equation.index(char)-1] in '+=')):\n",
        "            continue\n",
        "        equation_with_digits = equation.translate(str.maketrans(char_to_digit))\n",
        "        try:\n",
        "            if eval(equation_with_digits.replace('=', '==')):\n",
        "                return {char: char_to_digit[char] for char in letters}\n",
        "        except:\n",
        "            pass\n",
        "\n",
        "\n",
        "print(solve_cryptarithmetic('SEND + MORE = MONEY'))\n",
        "\n",
        "print(solve_cryptarithmetic('LOGIC + LOGIC = PROLOG'))\n"
      ],
      "metadata": {
        "colab": {
          "base_uri": "https://localhost:8080/"
        },
        "id": "mHhMncC1pJ-C",
        "outputId": "91d5d851-2c68-49c8-b844-01277e5a31ef"
      },
      "execution_count": 6,
      "outputs": [
        {
          "output_type": "stream",
          "name": "stdout",
          "text": [
            "{'Y': '2', 'M': '1', 'R': '8', 'S': '9', 'N': '6', 'E': '5', 'D': '7', 'O': '0'}\n",
            "{'L': '9', 'G': '4', 'I': '5', 'C': '2', 'P': '1', 'R': '8', 'O': '0'}\n"
          ]
        }
      ]
    },
    {
      "cell_type": "code",
      "source": [],
      "metadata": {
        "id": "2IFMQbyGpLWb"
      },
      "execution_count": null,
      "outputs": []
    }
  ]
}